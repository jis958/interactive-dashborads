{
 "cells": [
  {
   "cell_type": "code",
   "execution_count": 1,
   "metadata": {},
   "outputs": [
    {
     "name": "stdout",
     "output_type": "stream",
     "text": [
      "Requirement already satisfied: nbinteract in c:\\users\\k12028\\appdata\\local\\continuum\\anaconda3\\lib\\site-packages (0.2.5)\n",
      "Requirement already satisfied: Jinja2<3,>=2.10 in c:\\users\\k12028\\appdata\\local\\continuum\\anaconda3\\lib\\site-packages (from nbinteract) (2.11.1)\n",
      "Requirement already satisfied: ipywidgets<8,>=7.5.0 in c:\\users\\k12028\\appdata\\local\\continuum\\anaconda3\\lib\\site-packages (from nbinteract) (7.5.1)\n",
      "Requirement already satisfied: numpy<2,>=1 in c:\\users\\k12028\\appdata\\local\\continuum\\anaconda3\\lib\\site-packages (from nbinteract) (1.18.4)\n",
      "Requirement already satisfied: nbconvert<6,>=5.3 in c:\\users\\k12028\\appdata\\local\\continuum\\anaconda3\\lib\\site-packages (from nbinteract) (5.6.1)\n",
      "Requirement already satisfied: nbformat<5,>=4.4.0 in c:\\users\\k12028\\appdata\\local\\continuum\\anaconda3\\lib\\site-packages (from nbinteract) (4.4.0)\n",
      "Requirement already satisfied: toolz<1,>=0.8 in c:\\users\\k12028\\appdata\\local\\continuum\\anaconda3\\lib\\site-packages (from nbinteract) (0.10.0)\n",
      "Requirement already satisfied: bqplot==0.11.0 in c:\\users\\k12028\\appdata\\local\\continuum\\anaconda3\\lib\\site-packages (from nbinteract) (0.11.0)\n",
      "Requirement already satisfied: IPython<8,>=6 in c:\\users\\k12028\\appdata\\local\\continuum\\anaconda3\\lib\\site-packages (from nbinteract) (7.13.0)\n",
      "Requirement already satisfied: traitlets<5,>=4.3 in c:\\users\\k12028\\appdata\\local\\continuum\\anaconda3\\lib\\site-packages (from nbinteract) (4.3.3)\n",
      "Requirement already satisfied: docopt<1,>=0.6.2 in c:\\users\\k12028\\appdata\\local\\continuum\\anaconda3\\lib\\site-packages (from nbinteract) (0.6.2)\n",
      "Requirement already satisfied: MarkupSafe>=0.23 in c:\\users\\k12028\\appdata\\local\\continuum\\anaconda3\\lib\\site-packages (from Jinja2<3,>=2.10->nbinteract) (1.1.1)\n",
      "Requirement already satisfied: widgetsnbextension~=3.5.0 in c:\\users\\k12028\\appdata\\local\\continuum\\anaconda3\\lib\\site-packages (from ipywidgets<8,>=7.5.0->nbinteract) (3.5.1)\n",
      "Requirement already satisfied: ipykernel>=4.5.1 in c:\\users\\k12028\\appdata\\local\\continuum\\anaconda3\\lib\\site-packages (from ipywidgets<8,>=7.5.0->nbinteract) (5.1.4)\n",
      "Requirement already satisfied: entrypoints>=0.2.2 in c:\\users\\k12028\\appdata\\local\\continuum\\anaconda3\\lib\\site-packages (from nbconvert<6,>=5.3->nbinteract) (0.3)\n",
      "Requirement already satisfied: defusedxml in c:\\users\\k12028\\appdata\\local\\continuum\\anaconda3\\lib\\site-packages (from nbconvert<6,>=5.3->nbinteract) (0.6.0)\n",
      "Requirement already satisfied: pandocfilters>=1.4.1 in c:\\users\\k12028\\appdata\\local\\continuum\\anaconda3\\lib\\site-packages (from nbconvert<6,>=5.3->nbinteract) (1.4.2)\n",
      "Requirement already satisfied: bleach in c:\\users\\k12028\\appdata\\local\\continuum\\anaconda3\\lib\\site-packages (from nbconvert<6,>=5.3->nbinteract) (3.1.4)\n",
      "Requirement already satisfied: pygments in c:\\users\\k12028\\appdata\\local\\continuum\\anaconda3\\lib\\site-packages (from nbconvert<6,>=5.3->nbinteract) (2.6.1)\n",
      "Requirement already satisfied: jupyter-core in c:\\users\\k12028\\appdata\\local\\continuum\\anaconda3\\lib\\site-packages (from nbconvert<6,>=5.3->nbinteract) (4.6.3)\n",
      "Requirement already satisfied: mistune<2,>=0.8.1 in c:\\users\\k12028\\appdata\\local\\continuum\\anaconda3\\lib\\site-packages (from nbconvert<6,>=5.3->nbinteract) (0.8.4)\n",
      "Requirement already satisfied: testpath in c:\\users\\k12028\\appdata\\local\\continuum\\anaconda3\\lib\\site-packages (from nbconvert<6,>=5.3->nbinteract) (0.4.4)\n",
      "Requirement already satisfied: ipython-genutils in c:\\users\\k12028\\appdata\\local\\continuum\\anaconda3\\lib\\site-packages (from nbformat<5,>=4.4.0->nbinteract) (0.2.0)\n",
      "Requirement already satisfied: jsonschema!=2.5.0,>=2.4 in c:\\users\\k12028\\appdata\\local\\continuum\\anaconda3\\lib\\site-packages (from nbformat<5,>=4.4.0->nbinteract) (3.2.0)\n",
      "Requirement already satisfied: pandas in c:\\users\\k12028\\appdata\\local\\continuum\\anaconda3\\lib\\site-packages (from bqplot==0.11.0->nbinteract) (1.0.3)\n",
      "Requirement already satisfied: traittypes>=0.0.6 in c:\\users\\k12028\\appdata\\local\\continuum\\anaconda3\\lib\\site-packages (from bqplot==0.11.0->nbinteract) (0.2.1)\n",
      "Requirement already satisfied: jedi>=0.10 in c:\\users\\k12028\\appdata\\local\\continuum\\anaconda3\\lib\\site-packages (from IPython<8,>=6->nbinteract) (0.16.0)\n",
      "Requirement already satisfied: decorator in c:\\users\\k12028\\appdata\\local\\continuum\\anaconda3\\lib\\site-packages (from IPython<8,>=6->nbinteract) (4.4.2)\n",
      "Requirement already satisfied: setuptools>=18.5 in c:\\users\\k12028\\appdata\\local\\continuum\\anaconda3\\lib\\site-packages (from IPython<8,>=6->nbinteract) (46.1.3.post20200330)\n",
      "Requirement already satisfied: colorama; sys_platform == \"win32\" in c:\\users\\k12028\\appdata\\local\\continuum\\anaconda3\\lib\\site-packages (from IPython<8,>=6->nbinteract) (0.4.3)\n",
      "Requirement already satisfied: prompt-toolkit!=3.0.0,!=3.0.1,<3.1.0,>=2.0.0 in c:\\users\\k12028\\appdata\\local\\continuum\\anaconda3\\lib\\site-packages (from IPython<8,>=6->nbinteract) (3.0.4)\n",
      "Requirement already satisfied: pickleshare in c:\\users\\k12028\\appdata\\local\\continuum\\anaconda3\\lib\\site-packages (from IPython<8,>=6->nbinteract) (0.7.5)\n",
      "Requirement already satisfied: backcall in c:\\users\\k12028\\appdata\\local\\continuum\\anaconda3\\lib\\site-packages (from IPython<8,>=6->nbinteract) (0.1.0)\n",
      "Requirement already satisfied: six in c:\\users\\k12028\\appdata\\local\\continuum\\anaconda3\\lib\\site-packages (from traitlets<5,>=4.3->nbinteract) (1.14.0)\n",
      "Requirement already satisfied: notebook>=4.4.1 in c:\\users\\k12028\\appdata\\local\\continuum\\anaconda3\\lib\\site-packages (from widgetsnbextension~=3.5.0->ipywidgets<8,>=7.5.0->nbinteract) (6.0.3)\n",
      "Requirement already satisfied: jupyter-client in c:\\users\\k12028\\appdata\\local\\continuum\\anaconda3\\lib\\site-packages (from ipykernel>=4.5.1->ipywidgets<8,>=7.5.0->nbinteract) (6.1.2)\n",
      "Requirement already satisfied: tornado>=4.2 in c:\\users\\k12028\\appdata\\local\\continuum\\anaconda3\\lib\\site-packages (from ipykernel>=4.5.1->ipywidgets<8,>=7.5.0->nbinteract) (6.0.4)\n",
      "Requirement already satisfied: webencodings in c:\\users\\k12028\\appdata\\local\\continuum\\anaconda3\\lib\\site-packages (from bleach->nbconvert<6,>=5.3->nbinteract) (0.5.1)\n",
      "Requirement already satisfied: pywin32>=1.0; sys_platform == \"win32\" in c:\\users\\k12028\\appdata\\local\\continuum\\anaconda3\\lib\\site-packages (from jupyter-core->nbconvert<6,>=5.3->nbinteract) (227)\n",
      "Requirement already satisfied: attrs>=17.4.0 in c:\\users\\k12028\\appdata\\local\\continuum\\anaconda3\\lib\\site-packages (from jsonschema!=2.5.0,>=2.4->nbformat<5,>=4.4.0->nbinteract) (19.3.0)\n",
      "Requirement already satisfied: importlib-metadata; python_version < \"3.8\" in c:\\users\\k12028\\appdata\\local\\continuum\\anaconda3\\lib\\site-packages (from jsonschema!=2.5.0,>=2.4->nbformat<5,>=4.4.0->nbinteract) (1.5.0)\n",
      "Requirement already satisfied: pyrsistent>=0.14.0 in c:\\users\\k12028\\appdata\\local\\continuum\\anaconda3\\lib\\site-packages (from jsonschema!=2.5.0,>=2.4->nbformat<5,>=4.4.0->nbinteract) (0.16.0)\n",
      "Requirement already satisfied: pytz>=2017.2 in c:\\users\\k12028\\appdata\\local\\continuum\\anaconda3\\lib\\site-packages (from pandas->bqplot==0.11.0->nbinteract) (2019.3)\n",
      "Requirement already satisfied: python-dateutil>=2.6.1 in c:\\users\\k12028\\appdata\\local\\continuum\\anaconda3\\lib\\site-packages (from pandas->bqplot==0.11.0->nbinteract) (2.8.1)\n",
      "Requirement already satisfied: parso>=0.5.2 in c:\\users\\k12028\\appdata\\local\\continuum\\anaconda3\\lib\\site-packages (from jedi>=0.10->IPython<8,>=6->nbinteract) (0.6.2)\n",
      "Requirement already satisfied: wcwidth in c:\\users\\k12028\\appdata\\local\\continuum\\anaconda3\\lib\\site-packages (from prompt-toolkit!=3.0.0,!=3.0.1,<3.1.0,>=2.0.0->IPython<8,>=6->nbinteract) (0.1.9)\n",
      "Requirement already satisfied: pyzmq>=17 in c:\\users\\k12028\\appdata\\local\\continuum\\anaconda3\\lib\\site-packages (from notebook>=4.4.1->widgetsnbextension~=3.5.0->ipywidgets<8,>=7.5.0->nbinteract) (18.1.1)\n",
      "Requirement already satisfied: terminado>=0.8.1 in c:\\users\\k12028\\appdata\\local\\continuum\\anaconda3\\lib\\site-packages (from notebook>=4.4.1->widgetsnbextension~=3.5.0->ipywidgets<8,>=7.5.0->nbinteract) (0.8.3)\n",
      "Requirement already satisfied: Send2Trash in c:\\users\\k12028\\appdata\\local\\continuum\\anaconda3\\lib\\site-packages (from notebook>=4.4.1->widgetsnbextension~=3.5.0->ipywidgets<8,>=7.5.0->nbinteract) (1.5.0)\n",
      "Requirement already satisfied: prometheus-client in c:\\users\\k12028\\appdata\\local\\continuum\\anaconda3\\lib\\site-packages (from notebook>=4.4.1->widgetsnbextension~=3.5.0->ipywidgets<8,>=7.5.0->nbinteract) (0.7.1)\n",
      "Requirement already satisfied: zipp>=0.5 in c:\\users\\k12028\\appdata\\local\\continuum\\anaconda3\\lib\\site-packages (from importlib-metadata; python_version < \"3.8\"->jsonschema!=2.5.0,>=2.4->nbformat<5,>=4.4.0->nbinteract) (2.2.0)\n"
     ]
    }
   ],
   "source": [
    "!pip install nbinteract"
   ]
  },
  {
   "cell_type": "code",
   "execution_count": 2,
   "metadata": {},
   "outputs": [
    {
     "name": "stdout",
     "output_type": "stream",
     "text": [
      "\u001b[0;34m[nbinteract] \u001b[0mInitializing folder for nbinteract.\n",
      "\u001b[0;34m[nbinteract] \u001b[0m\n",
      "\u001b[0;34m[nbinteract] \u001b[0mChecking to see if this folder is the root folder of a git project.\n",
      "\u001b[0;34m[nbinteract] \u001b[0mLooks like we're in the root of a git project.\n",
      "\u001b[0;34m[nbinteract] \u001b[0m\n",
      "\u001b[0;34m[nbinteract] \u001b[0mChecking for requirements.txt or Dockerfile.\n",
      "\u001b[0;34m[nbinteract] \u001b[0mrequirements.txt found.\n",
      "\u001b[0;34m[nbinteract] \u001b[0m\n",
      "\u001b[0;34m[nbinteract] \u001b[0mGenerating .nbinteract.json file...\n",
      "\u001b[0;34m[nbinteract] \u001b[0m.nbinteract.json already exists, skipping generation. If you'd like\n",
      "\u001b[0;34m[nbinteract] \u001b[0m  to regenerate the file, remove .nbinteract.json and rerun this\n",
      "\u001b[0;34m[nbinteract] \u001b[0m  command.\n",
      "\u001b[0;34m[nbinteract] \u001b[0m\n",
      "\u001b[0;34m[nbinteract] \u001b[0mInitialization success!\n"
     ]
    }
   ],
   "source": [
    "!nbinteract init"
   ]
  },
  {
   "cell_type": "code",
   "execution_count": 3,
   "metadata": {},
   "outputs": [
    {
     "name": "stderr",
     "output_type": "stream",
     "text": [
      "warning: LF will be replaced by CRLF in run_console.ipynb.\n",
      "The file will have its original line endings in your working directory\n",
      "warning: LF will be replaced by CRLF in .ipynb_checkpoints/Untitled-checkpoint.ipynb.\n",
      "The file will have its original line endings in your working directory\n"
     ]
    }
   ],
   "source": [
    "!git add -A"
   ]
  },
  {
   "cell_type": "code",
   "execution_count": 4,
   "metadata": {},
   "outputs": [
    {
     "name": "stdout",
     "output_type": "stream",
     "text": [
      "[master 0ca733d] setup nbinteract\n",
      " 2 files changed, 15 insertions(+)\n",
      " create mode 100644 .ipynb_checkpoints/Untitled-checkpoint.ipynb\n"
     ]
    }
   ],
   "source": [
    "!git commit -m \"setup nbinteract\""
   ]
  },
  {
   "cell_type": "code",
   "execution_count": 5,
   "metadata": {},
   "outputs": [
    {
     "name": "stderr",
     "output_type": "stream",
     "text": [
      "To https://github.com/jis958/interactive-dashborads\n",
      "   4c61be1..0ca733d  master -> master\n"
     ]
    }
   ],
   "source": [
    "!git push origin master"
   ]
  },
  {
   "cell_type": "code",
   "execution_count": 6,
   "metadata": {},
   "outputs": [
    {
     "name": "stdout",
     "output_type": "stream",
     "text": [
      "\u001b[0;34m[nbinteract] \u001b[0mConverting notebooks to HTML...\n",
      "\u001b[0;34m[nbinteract] \u001b[0mConverted test.ipynb to test.html\n",
      "\u001b[0;34m[nbinteract] \u001b[0mDone!\n"
     ]
    }
   ],
   "source": [
    "!nbinteract test.ipynb"
   ]
  },
  {
   "cell_type": "code",
   "execution_count": 7,
   "metadata": {},
   "outputs": [],
   "source": [
    "!git add -A"
   ]
  },
  {
   "cell_type": "code",
   "execution_count": 8,
   "metadata": {},
   "outputs": [
    {
     "name": "stdout",
     "output_type": "stream",
     "text": [
      "[master a3d3575] publish nb\n",
      " 1 file changed, 4 insertions(+), 4 deletions(-)\n"
     ]
    }
   ],
   "source": [
    "!git commit -m \"publish nb\""
   ]
  },
  {
   "cell_type": "code",
   "execution_count": 9,
   "metadata": {},
   "outputs": [
    {
     "name": "stderr",
     "output_type": "stream",
     "text": [
      "To https://github.com/jis958/interactive-dashborads\n",
      "   0ca733d..a3d3575  master -> master\n"
     ]
    }
   ],
   "source": [
    "!git push origin master"
   ]
  },
  {
   "cell_type": "code",
   "execution_count": null,
   "metadata": {},
   "outputs": [],
   "source": []
  }
 ],
 "metadata": {
  "hide_input": false,
  "kernelspec": {
   "display_name": "Python 3",
   "language": "python",
   "name": "python3"
  },
  "language_info": {
   "codemirror_mode": {
    "name": "ipython",
    "version": 3
   },
   "file_extension": ".py",
   "mimetype": "text/x-python",
   "name": "python",
   "nbconvert_exporter": "python",
   "pygments_lexer": "ipython3",
   "version": "3.7.1"
  },
  "toc": {
   "base_numbering": 1,
   "nav_menu": {},
   "number_sections": true,
   "sideBar": true,
   "skip_h1_title": false,
   "title_cell": "Table of Contents",
   "title_sidebar": "Contents",
   "toc_cell": false,
   "toc_position": {},
   "toc_section_display": true,
   "toc_window_display": false
  },
  "varInspector": {
   "cols": {
    "lenName": 16,
    "lenType": 16,
    "lenVar": 40
   },
   "kernels_config": {
    "python": {
     "delete_cmd_postfix": "",
     "delete_cmd_prefix": "del ",
     "library": "var_list.py",
     "varRefreshCmd": "print(var_dic_list())"
    },
    "r": {
     "delete_cmd_postfix": ") ",
     "delete_cmd_prefix": "rm(",
     "library": "var_list.r",
     "varRefreshCmd": "cat(var_dic_list()) "
    }
   },
   "types_to_exclude": [
    "module",
    "function",
    "builtin_function_or_method",
    "instance",
    "_Feature"
   ],
   "window_display": false
  }
 },
 "nbformat": 4,
 "nbformat_minor": 2
}
