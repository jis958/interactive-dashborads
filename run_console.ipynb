{
 "cells": [
  {
   "cell_type": "code",
   "execution_count": 1,
   "metadata": {},
   "outputs": [
    {
     "name": "stdout",
     "output_type": "stream",
     "text": [
      "\u001b[0;34m[nbinteract] \u001b[0mInitializing folder for nbinteract.\n",
      "\u001b[0;34m[nbinteract] \u001b[0m\n",
      "\u001b[0;34m[nbinteract] \u001b[0mChecking to see if this folder is the root folder of a git project.\n",
      "\u001b[0;34m[nbinteract] \u001b[0mLooks like we're in the root of a git project.\n",
      "\u001b[0;34m[nbinteract] \u001b[0m\n",
      "\u001b[0;34m[nbinteract] \u001b[0mChecking for requirements.txt or Dockerfile.\n",
      "\u001b[0;34m[nbinteract] \u001b[0mrequirements.txt found.\n",
      "\u001b[0;34m[nbinteract] \u001b[0m\n",
      "\u001b[0;34m[nbinteract] \u001b[0mGenerating .nbinteract.json file...\n",
      "\u001b[0;34m[nbinteract] \u001b[0mCreated .nbinteract.json file successfully\n",
      "\u001b[0;34m[nbinteract] \u001b[0m\n",
      "\u001b[0;34m[nbinteract] \u001b[0mInitialization complete! Now, you should make a git commit with the\n",
      "\u001b[0;34m[nbinteract] \u001b[0m  files created by in this process and push your commits to GitHub.\n",
      "\u001b[0;34m[nbinteract] \u001b[0m\n",
      "\u001b[0;34m[nbinteract] \u001b[0mAfter you push, you should visit\n",
      "\u001b[0;34m[nbinteract] \u001b[0m  https://mybinder.org/v2/gh/jis958/interactive-dashborads/master\n",
      "\u001b[0;34m[nbinteract] \u001b[0m  and verify that your Binder image successfully starts.\n"
     ]
    }
   ],
   "source": [
    "!nbinteract init"
   ]
  },
  {
   "cell_type": "code",
   "execution_count": 2,
   "metadata": {},
   "outputs": [
    {
     "name": "stderr",
     "output_type": "stream",
     "text": [
      "warning: LF will be replaced by CRLF in .ipynb_checkpoints/run_console-checkpoint.ipynb.\n",
      "The file will have its original line endings in your working directory\n",
      "warning: LF will be replaced by CRLF in .ipynb_checkpoints/test-checkpoint.ipynb.\n",
      "The file will have its original line endings in your working directory\n",
      "warning: LF will be replaced by CRLF in run_console.ipynb.\n",
      "The file will have its original line endings in your working directory\n",
      "warning: LF will be replaced by CRLF in test.ipynb.\n",
      "The file will have its original line endings in your working directory\n"
     ]
    }
   ],
   "source": [
    "!git add -A"
   ]
  },
  {
   "cell_type": "code",
   "execution_count": 3,
   "metadata": {},
   "outputs": [
    {
     "name": "stdout",
     "output_type": "stream",
     "text": [
      "[master e4f3fbf] setup nbinteract\n",
      " 5 files changed, 179 insertions(+)\n",
      " create mode 100644 .ipynb_checkpoints/run_console-checkpoint.ipynb\n",
      " rename 88_interactive_dashboards_nbinteract.ipynb => .ipynb_checkpoints/test-checkpoint.ipynb (100%)\n",
      " create mode 100644 .nbinteract.json\n",
      " create mode 100644 run_console.ipynb\n",
      " create mode 100644 test.ipynb\n"
     ]
    }
   ],
   "source": [
    "!git commit -m \"setup nbinteract\""
   ]
  },
  {
   "cell_type": "code",
   "execution_count": null,
   "metadata": {},
   "outputs": [],
   "source": [
    "!git push origin master"
   ]
  },
  {
   "cell_type": "code",
   "execution_count": null,
   "metadata": {},
   "outputs": [],
   "source": []
  }
 ],
 "metadata": {
  "hide_input": false,
  "kernelspec": {
   "display_name": "Python 3",
   "language": "python",
   "name": "python3"
  },
  "language_info": {
   "codemirror_mode": {
    "name": "ipython",
    "version": 3
   },
   "file_extension": ".py",
   "mimetype": "text/x-python",
   "name": "python",
   "nbconvert_exporter": "python",
   "pygments_lexer": "ipython3",
   "version": "3.7.1"
  },
  "toc": {
   "base_numbering": 1,
   "nav_menu": {},
   "number_sections": true,
   "sideBar": true,
   "skip_h1_title": false,
   "title_cell": "Table of Contents",
   "title_sidebar": "Contents",
   "toc_cell": false,
   "toc_position": {},
   "toc_section_display": true,
   "toc_window_display": false
  },
  "varInspector": {
   "cols": {
    "lenName": 16,
    "lenType": 16,
    "lenVar": 40
   },
   "kernels_config": {
    "python": {
     "delete_cmd_postfix": "",
     "delete_cmd_prefix": "del ",
     "library": "var_list.py",
     "varRefreshCmd": "print(var_dic_list())"
    },
    "r": {
     "delete_cmd_postfix": ") ",
     "delete_cmd_prefix": "rm(",
     "library": "var_list.r",
     "varRefreshCmd": "cat(var_dic_list()) "
    }
   },
   "types_to_exclude": [
    "module",
    "function",
    "builtin_function_or_method",
    "instance",
    "_Feature"
   ],
   "window_display": false
  }
 },
 "nbformat": 4,
 "nbformat_minor": 2
}
